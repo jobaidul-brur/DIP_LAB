{
 "cells": [
  {
   "cell_type": "code",
   "execution_count": 1,
   "id": "73ef07e3",
   "metadata": {},
   "outputs": [],
   "source": [
    "import cv2"
   ]
  },
  {
   "cell_type": "code",
   "execution_count": 2,
   "id": "4438979d",
   "metadata": {},
   "outputs": [],
   "source": [
    "# Read the grayscale image\n",
    "image = cv2.imread('img.jpg', cv2.IMREAD_GRAYSCALE)"
   ]
  },
  {
   "cell_type": "code",
   "execution_count": 3,
   "id": "73eefb63",
   "metadata": {},
   "outputs": [
    {
     "name": "stdout",
     "output_type": "stream",
     "text": [
      "Grayscale image saved successfully.\n"
     ]
    }
   ],
   "source": [
    "if image is not None:\n",
    "    # Display the grayscale image\n",
    "    cv2.imshow('Grayscale Image', image)\n",
    "    cv2.waitKey(0)\n",
    "    cv2.destroyAllWindows()\n",
    "\n",
    "    # Save the grayscale image\n",
    "    cv2.imwrite('img2GS.jpg', image)\n",
    "    print(\"Grayscale image saved successfully.\")\n",
    "else:\n",
    "    print(\"Error: Unable to read the image. Please check the file path.\")"
   ]
  },
  {
   "cell_type": "code",
   "execution_count": null,
   "id": "47af9efe",
   "metadata": {},
   "outputs": [],
   "source": []
  }
 ],
 "metadata": {
  "kernelspec": {
   "display_name": "Python 3 (ipykernel)",
   "language": "python",
   "name": "python3"
  },
  "language_info": {
   "codemirror_mode": {
    "name": "ipython",
    "version": 3
   },
   "file_extension": ".py",
   "mimetype": "text/x-python",
   "name": "python",
   "nbconvert_exporter": "python",
   "pygments_lexer": "ipython3",
   "version": "3.11.3"
  }
 },
 "nbformat": 4,
 "nbformat_minor": 5
}
