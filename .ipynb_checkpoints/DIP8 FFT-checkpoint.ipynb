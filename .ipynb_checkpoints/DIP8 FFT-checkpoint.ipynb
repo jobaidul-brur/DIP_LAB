{
 "cells": [
  {
   "cell_type": "code",
   "execution_count": 1,
   "id": "f373ee31",
   "metadata": {},
   "outputs": [],
   "source": [
    "import cv2\n",
    "import numpy as np\n",
    "import matplotlib.pyplot as plt"
   ]
  },
  {
   "cell_type": "code",
   "execution_count": 2,
   "id": "8e2dce55",
   "metadata": {},
   "outputs": [],
   "source": [
    "# Read the image\n",
    "image = cv2.imread('img6.jpg', 0)  # Read image as grayscale"
   ]
  },
  {
   "cell_type": "code",
   "execution_count": 3,
   "id": "e5422a33",
   "metadata": {},
   "outputs": [],
   "source": [
    "if image is not None:\n",
    "    # Apply Fourier Transform\n",
    "    f_transform = np.fft.fft2(image)\n",
    "    f_shift = np.fft.fftshift(f_transform)\n",
    "\n",
    "    # Define the percentage of high frequencies to discard (discretization)\n",
    "    percentage = 0.1  # Modify this value to change the amount of information retained\n",
    "\n",
    "    # Determine the shape of the image\n",
    "    rows, cols = image.shape\n",
    "    center_row, center_col = rows // 2, cols // 2\n",
    "\n",
    "    # Discretize the Fourier Transform\n",
    "    f_shift[int(center_row - percentage * rows):int(center_row + percentage * rows),\n",
    "            int(center_col - percentage * cols):int(center_col + percentage * cols)] = 0\n",
    "\n",
    "    # Inverse Fourier Transform\n",
    "    f_ishift = np.fft.ifftshift(f_shift)\n",
    "    image_back = np.fft.ifft2(f_ishift)\n",
    "    image_back = np.abs(image_back)\n",
    "\n",
    "    # Display the original and discretized images\n",
    "    plt.figure(figsize=(12, 6))\n",
    "\n",
    "    plt.subplot(1, 2, 1)\n",
    "    plt.imshow(image, cmap='gray')\n",
    "    plt.title('Original Image')\n",
    "    plt.axis('off')\n",
    "\n",
    "    plt.subplot(1, 2, 2)\n",
    "    plt.imshow(image_back, cmap='gray')\n",
    "    plt.title('Discretized Image')\n",
    "    plt.axis('off')\n",
    "\n",
    "    plt.show()\n",
    "else:\n",
    "    print(\"Error: Unable to read the image. Please check the file path.\")"
   ]
  },
  {
   "cell_type": "code",
   "execution_count": null,
   "id": "f09dffd0",
   "metadata": {},
   "outputs": [],
   "source": []
  }
 ],
 "metadata": {
  "kernelspec": {
   "display_name": "Python 3 (ipykernel)",
   "language": "python",
   "name": "python3"
  },
  "language_info": {
   "codemirror_mode": {
    "name": "ipython",
    "version": 3
   },
   "file_extension": ".py",
   "mimetype": "text/x-python",
   "name": "python",
   "nbconvert_exporter": "python",
   "pygments_lexer": "ipython3",
   "version": "3.11.3"
  }
 },
 "nbformat": 4,
 "nbformat_minor": 5
}
